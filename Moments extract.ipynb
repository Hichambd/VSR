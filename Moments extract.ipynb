{
 "cells": [
  {
   "cell_type": "code",
   "execution_count": 1,
   "metadata": {},
   "outputs": [],
   "source": [
    "import numpy as np\n",
    "import os\n",
    "import pickle\n",
    "import scipy as sc\n",
    "from sklearn.model_selection import train_test_split \n",
    "from skimage.color import rgb2gray\n",
    "from math import *\n",
    "import re\n",
    "from numpy import *\n",
    "#from ReadLettresDataBase import *\n",
    "from Hahn2D import *\n",
    "from ImageProcessing import *"
   ]
  },
  {
   "cell_type": "code",
   "execution_count": 3,
   "metadata": {},
   "outputs": [
    {
     "name": "stdout",
     "output_type": "stream",
     "text": [
      "(531, 800)\n"
     ]
    }
   ],
   "source": [
    "img = sc.misc.imread('hassan.jpg')\n",
    "print(rgb2gray(img).shape)"
   ]
  },
  {
   "cell_type": "code",
   "execution_count": null,
   "metadata": {},
   "outputs": [],
   "source": [
    "ordre = \n",
    "sizeval = 250\n",
    "Poly = HahnPolynome(ordre + 1, sizeval, 5, 5)\n",
    "moment = getMatrixMomentsSansReshape(img, ordre, Poly)"
   ]
  },
  {
   "cell_type": "code",
   "execution_count": null,
   "metadata": {},
   "outputs": [],
   "source": []
  },
  {
   "cell_type": "code",
   "execution_count": 2,
   "metadata": {
    "collapsed": true
   },
   "outputs": [],
   "source": [
    "def list_dirs(path):\n",
    "    files = []\n",
    "    for name in os.listdir(path):\n",
    "        if os.path.isdir(os.path.join(path, name)):\n",
    "            files.append(os.path.join(path, name))\n",
    "    ordered_files = sorted(files, key=lambda x: (int(re.sub('\\D','',x)),x))\n",
    "    return ordered_files\n",
    "############################################################\"\n",
    "def list_files(path):\n",
    "    files = []\n",
    "    for name in sorted(os.listdir(path)):\n",
    "        if os.path.isfile(os.path.join(path, name)):\n",
    "            files.append(os.path.join(path, name))\n",
    "    files = sorted(files, key=lambda x: (int(re.sub('\\D','',x)),x))\n",
    "    return files\n"
   ]
  },
  {
   "cell_type": "code",
   "execution_count": 3,
   "metadata": {
    "collapsed": true
   },
   "outputs": [],
   "source": [
    "def getBaseLettreDependent(nbClasses, testSize, ordre):\n",
    "    imagesTrX = []\n",
    "    imagesTrY = []\n",
    "    imagesTeX = []\n",
    "    imagesTeY = []\n",
    "\n",
    "    print('Classes : ', nbClasses)\n",
    "    phrases = {'1 7 3 5 1 6 2 6 6 7': 0, '4 0 2 9 1 8 5 9 0 4': 1, '1 9 0 7 8 8 0 3 2 8': 2, '4 9 1 2 1 1 8 5 5 1': 3,  \n",
    "               '8 6 3 5 4 0 2 1 1 2': 4, '2 3 9 0 0 1 6 7 6 4': 5, '5 2 7 1 6 1 3 6 7 0':6, \n",
    "               '9 7 4 4 4 3 5 5 8 7': 7, '6 3 8 5 3 9 8 5 6 5': 8, '7 3 2 4 0 1 9 9 5 0': 9}\n",
    "\n",
    "    for j in phrases.keys():\n",
    "        \n",
    "        lettreProb = zeros(nbClasses)\n",
    "        pat = \"../OuluVS2_Digits/\"+j+\"/\"\n",
    "        print(pat)\n",
    "\n",
    "        lettreProb[phrases[j]]=1\n",
    "        X = []\n",
    "        Y = []\n",
    "        pas=1\n",
    "        files = list_files(pat)\n",
    "        for f in files:\n",
    "            im_ = misc.imread(f)\n",
    "            sizeval = im_.shape[0]\n",
    "            Poly = HahnPolynome(ordre + 1, sizeval, 5, 5)\n",
    "            img = adaptationImageV3(f, sizeval)\n",
    "\n",
    "            res = img\n",
    "            img2 = zeros((ordre + 1, ordre + 1, 1))\n",
    "            moment = getMatrixMomentsSansReshape(res, ordre, Poly)\n",
    "            img2[:, :, 0] = moment\n",
    "            X.append(img2)\n",
    "            Y.append(lettreProb)\n",
    "\n",
    "        X_train, X_test, y_train, y_test = train_test_split(X, Y, test_size=testSize, random_state=1)\n",
    "        imagesTrX.extend(X_train)\n",
    "        imagesTrY.extend(y_train)\n",
    "        imagesTeX.extend(X_test)\n",
    "        imagesTeY.extend(y_test)\n",
    "\n",
    "\n",
    "    print(\"imagestrX:\", shape(imagesTrX), \"imagestrY:\", shape(imagesTrY), \"imagesteX:\", shape(imagesTeX), \"imagesteY:\",\n",
    "        shape(imagesTeY))\n",
    "\n",
    "    return imagesTrX, imagesTeX, imagesTrY, imagesTeY  # , matrixInvariants"
   ]
  },
  {
   "cell_type": "code",
   "execution_count": null,
   "metadata": {},
   "outputs": [
    {
     "name": "stdout",
     "output_type": "stream",
     "text": [
      "('Classes : ', 10)\n",
      "../OuluVS2_Digits/2 3 9 0 0 1 6 7 6 4/\n",
      "../OuluVS2_Digits/9 7 4 4 4 3 5 5 8 7/\n",
      "../OuluVS2_Digits/5 2 7 1 6 1 3 6 7 0/\n",
      "../OuluVS2_Digits/6 3 8 5 3 9 8 5 6 5/\n",
      "../OuluVS2_Digits/1 7 3 5 1 6 2 6 6 7/\n",
      "../OuluVS2_Digits/8 6 3 5 4 0 2 1 1 2/\n",
      "../OuluVS2_Digits/4 9 1 2 1 1 8 5 5 1/\n",
      "../OuluVS2_Digits/4 0 2 9 1 8 5 9 0 4/\n",
      "../OuluVS2_Digits/7 3 2 4 0 1 9 9 5 0/\n"
     ]
    }
   ],
   "source": [
    "mL=10\n",
    "ordre= 7\n",
    "\n",
    "%time X_train_,X_test_,y_train,y_test = getBaseLettreDependent(mL, 0.3, ordre)"
   ]
  },
  {
   "cell_type": "code",
   "execution_count": 15,
   "metadata": {
    "collapsed": true
   },
   "outputs": [],
   "source": [
    "#Write Data\n",
    "data = X_train_, X_test_, y_train, y_test\n",
    "file_ = open('../OuluVS2_o'+str(ordre+1)+'_DAugm.pkl', \"wb\")\n",
    "pickle.dump(data, file_)\n",
    "file_.close()\n",
    "\n",
    "#f = open('gradesdict.p', 'wb')   # 'wb' instead 'w' for binary file\n",
    "#pickle.dump(grades, f, -1)       # -1 specifies highest binary protocol"
   ]
  },
  {
   "cell_type": "code",
   "execution_count": null,
   "metadata": {
    "collapsed": true
   },
   "outputs": [],
   "source": []
  }
 ],
 "metadata": {
  "kernelspec": {
   "display_name": "Python 3",
   "language": "python",
   "name": "python3"
  },
  "language_info": {
   "codemirror_mode": {
    "name": "ipython",
    "version": 3
   },
   "file_extension": ".py",
   "mimetype": "text/x-python",
   "name": "python",
   "nbconvert_exporter": "python",
   "pygments_lexer": "ipython3",
   "version": "3.5.5"
  }
 },
 "nbformat": 4,
 "nbformat_minor": 2
}
